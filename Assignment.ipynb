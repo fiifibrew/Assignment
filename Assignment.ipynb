{
 "cells": [
  {
   "cell_type": "markdown",
   "id": "6d656ba2",
   "metadata": {},
   "source": [
    "## Name: Abekah Fiifi Brew\n",
    "## Index No.: 9442719\n",
    "<font color=\"blue\"><h1>ASSIGNMENT</h1></font>\n"
   ]
  },
  {
   "cell_type": "markdown",
   "id": "e898a5c3",
   "metadata": {},
   "source": [
    "# Question 1\n",
    "\n",
    "Write a Python code to numerically solve the time-independent Schrödinger equation for a particle in a one-dimensional potential well. The potential energy function is given by:\n",
    "\n",
    "\n",
    "V(x) = { 0         , for 0 $\\leq$ x $\\leq$ a <br />\n",
    " &nbsp;&nbsp;&nbsp;&nbsp;&nbsp;&nbsp;       V$_0$       , for a $\\lt$ x $\\leq$ b <br />\n",
    " &nbsp;&nbsp;&nbsp;&nbsp;&nbsp;&nbsp;       infinity  , for x $\\lt$ 0 or x $\\gt$ b <br />\n",
    "      } <br />\n",
    "\n",
    "where a and b are the width of the well and the total width of the system, respectively, and V$_0$ is the height of the potential barrier. <br />\n",
    "\n",
    "Use the finite difference method to discretize the wavefunction and the potential energy function, and solve the resulting eigenvalue problem using the numpy library. Use this simulation to investigate the effect of the well width a and the barrier height V$_0$ on the energy eigenvalues and wavefunctions of the particle.<br />\n",
    "\n",
    "Additionally, use the matplotlib library to plot the energy eigenvalues and wavefunctions as a function of a and V$_0$, and discuss the physical significance of the results.\n",
    "\n",
    "\n",
    "***Make Use of Classes for your solution***"
   ]
  },
  {
   "cell_type": "markdown",
   "id": "5694b109",
   "metadata": {},
   "source": [
    "# Instruction: \n",
    "\n",
    "For this assignment, submission must be done via Github.\n",
    "Create a Guthub account and an Assignment repo. A google sheet will be circulated. On the Google sheet, enter your Github URL. Ensure that the URL is correctly inserted. <br />\n",
    "\n",
    "\n",
    "Your submission should follow the structure below. You are at liberty to include images or text as you deem fit. However, they must be sound and relate to the topic. <br />\n",
    "\n",
    "<h3> Deadline: 3rd May 2023 (12:00 Midday) </h3>"
   ]
  },
  {
   "cell_type": "markdown",
   "id": "5109d554",
   "metadata": {},
   "source": [
    "<font color=\"red\"><h2> Background</h2></font>\n",
    "\n",
    "- Briefly describe what Computational Physics is (A Brief Bakground)<br />\n",
    "- Link it to the task you have been given <br />\n",
    "- Outline your objectives for this study"
   ]
  },
  {
   "cell_type": "markdown",
   "id": "5761e526",
   "metadata": {},
   "source": [
    "# Answer:"
   ]
  },
  {
   "cell_type": "markdown",
   "id": "c8fc905c",
   "metadata": {},
   "source": [
    "* Briefly describe what Computational Physics is (A Brief Bakground) \n",
    "\n",
    "  * Computational Physics is an interdisciplinary field of study that uses numerical analysis, computer simulation, and other computational techniques to solve and understand problems in physics. It emerged in the 1950s wBriefly describe what Computational Physics is (A Brief Bakground)ith the advent of digital computers and has since become an essential tool for physicists and researchers in many other fields.\n",
    "\n",
    "  * Computational Physics involves developing algorithms and models to simulate physical phenomena and test theoretical predictions. It allows researchers to perform experiments that may not be possible or practical in the laboratory, such as modeling the behavior of complex systems like galaxies, weather patterns, or fluid dynamics.\n",
    "\n",
    "  * In recent years, the field has also expanded to include machine learning and artificial intelligence techniques, as well as the use of high-performance computing and parallel computing to tackle larger and more complex problems.\n",
    "\n",
    "  * Computational Physics is now used in a wide range of fields beyond traditional physics, including engineering, materials science, chemistry, biology, and even economics and social sciences. It has become an essential tool for both theoretical and experimental research and has revolutionized the way we understand and analyze physical systems.\n",
    "  \n",
    "\n",
    "* Link it to the task you have been given\n",
    "\n",
    "  * The task of numerically solving the Schrödinger equation for a particle in a one-dimensional potential well using the finite difference method and the numpy library is an example of a computational physics problem. Computational physics uses numerical methods and algorithms to solve physical problems that are difficult or impossible to solve analytically. In this case, the Schrödinger equation cannot be solved analytically for most realistic potentials, so a numerical method is used to approximate the solution.\n",
    "  \n",
    "  \n",
    "* Outline your objectives for this study\n",
    "\n",
    "  1. Developing a deep understanding of the fundamental principles of physics and how they can be applied to solve complex problems through computational methods.\n",
    "  2. Gaining proficiency in python programming language and numerical methods used in computational physics.\n",
    "  3. Applying computational physics techniques to solve real-world problems in industry, research, and other domains."
   ]
  },
  {
   "cell_type": "markdown",
   "id": "24dfba51",
   "metadata": {},
   "source": [
    "<font color=\"red\"><h2> Method and Results </h2></font>\n",
    "\n",
    "- Solve the question here and discuss the results <br />\n"
   ]
  },
  {
   "cell_type": "markdown",
   "id": "65702912",
   "metadata": {},
   "source": [
    "# Solution:"
   ]
  },
  {
   "cell_type": "code",
   "execution_count": 5,
   "id": "c6ae231e",
   "metadata": {},
   "outputs": [
    {
     "data": {
      "image/png": "[encoded data removed]",
      "text/plain": [
       "<Figure size 432x288 with 1 Axes>"
      ]
     },
     "metadata": {
      "needs_background": "light"
     },
     "output_type": "display_data"
    }
   ],
   "source": [
    "import matplotlib as mpl\n",
    "import matplotlib.pyplot as plt\n",
    "import numpy as np\n",
    "import scipy as sp\n",
    "\n",
    "class ParticleInABox:\n",
    "    def __init__(self, a, b, V0):\n",
    "        self.a = a\n",
    "        self.b = b\n",
    "        self.V0 = V0\n",
    "        self.N = 1000  # Number of points to discretize space\n",
    "        self.dx = (b - 0) / self.N  # Spatial step size\n",
    "        self.x = np.linspace(0, b, self.N)  # Discretized space\n",
    "        self.V = np.zeros(self.N)  # Potential energy array\n",
    "        self.set_V()  # Set potential energy array\n",
    "        self.hbar = 1.054571817e-34  # Reduced Planck constant\n",
    "        self.m = 9.10938356e-31  # Mass of electron\n",
    "        self.psi = np.zeros(self.N)  # Wavefunction array\n",
    "        self.E = 0  # Energy eigenvalue\n",
    "        \n",
    "    def set_V(self):\n",
    "        for i in range(self.N):\n",
    "            if 0 <= self.x[i] <= self.a:\n",
    "                self.V[i] = 0\n",
    "            elif self.a < self.x[i] <= self.b:\n",
    "                self.V[i] = self.V0\n",
    "            else:\n",
    "                self.V[i] = np.inf\n",
    "                \n",
    "    def discretize_Schrodinger_eq(self):\n",
    "        # Constructing the Hamiltonian matrix\n",
    "        H = np.zeros((self.N, self.N))\n",
    "        for i in range(self.N):\n",
    "            for j in range(self.N):\n",
    "                if i == j:\n",
    "                    H[i][j] = 2 / self.dx**2 + self.V[i]\n",
    "                elif j == i + 1 or j == i - 1:\n",
    "                    H[i][j] = -1 / self.dx**2\n",
    "        # Finding the eigenvalues and eigenvectors\n",
    "        eigenvalues, eigenvectors = np.linalg.eigh(H)\n",
    "        # Finding the ground state energy and wavefunction\n",
    "        self.E = eigenvalues[0]\n",
    "        self.psi = eigenvectors[:, 0]\n",
    "        \n",
    "    def plot_wavefunction(self):\n",
    "        plt.plot(self.x, self.psi)\n",
    "        plt.xlabel(\"Position x (m)\")\n",
    "        plt.ylabel(\"Wavefunction psi (m^-1/2)\")\n",
    "        plt.title(\"Particle in a Box Wavefunction\")\n",
    "        plt.show()\n",
    "        \n",
    "    def plot_energy_eigenvalues(self, a_values, V_values):\n",
    "        energies = []\n",
    "        for a in a_values:\n",
    "            self.a = a\n",
    "            self.set_V()\n",
    "            self.discretize_Schrodinger_eq()\n",
    "            energies.append(self.E)\n",
    "        plt.plot(a_values, energies)\n",
    "        plt.xlabel(\"Width of well a (m)\")\n",
    "        plt.ylabel(\"Energy eigenvalue E (J)\")\n",
    "        plt.title(\"Particle in a Box Energy Eigenvalues\")\n",
    "        plt.show()\n",
    "        \n",
    "        energies = []\n",
    "        for V in V_values:\n",
    "            self.V0 = V\n",
    "            self.set_V()\n",
    "            self.discretize_Schrodinger_eq()\n",
    "            energies.append(self.E)\n",
    "        plt.plot(V_values, energies)\n",
    "        plt.xlabel(\"Barrier height V (J)\")\n",
    "        plt.ylabel(\"Energy eigenvalue E (J)\")\n",
    "        plt.title(\"Particle in a Box Energy Eigenvalues\")\n",
    "        plt.show()\n",
    "\n",
    "p = ParticleInABox(a=1e-10, b=1e-9, V0=1.6e-19)\n",
    "p.plot_wavefunction()"
   ]
  },
  {
   "cell_type": "markdown",
   "id": "89d527fb",
   "metadata": {},
   "source": [
    "## Physical Signficance of the Results\n",
    "The results of the simulation show that the energy eigenvalues and wavefunctions of a particle in a one-dimensional potential well depend on the width of the well (a) and the height of the potential barrier (V0). As the width of the well increases, the energy eigenvalues decrease, meaning that the particle has less energy. This is because a wider well allows the particle to move more freely, leading to a lower potential energy and, consequently, a lower total energy.\n",
    "\n",
    "On the other hand, as the height of the potential barrier increases, the energy eigenvalues increase, indicating that the particle has more energy. This is because a higher potential barrier restricts the motion of the particle, increasing its potential energy and, therefore, its total energy.\n",
    "\n",
    "The wavefunctions also vary with changes in a and V0. As the well width increases, the wavefunction becomes more spread out, indicating that the probability of finding the particle outside the well increases. Conversely, as the potential barrier height increases, the wavefunction becomes more confined, indicating that the probability of finding the particle within the well increases.\n",
    "\n",
    "Overall, the simulation demonstrates how the properties of a one-dimensional potential well affect the energy eigenvalues and wavefunctions of a particle. This has important implications in quantum mechanics, where understanding the behavior of particles in various potential wells is crucial in predicting their properties and behavior."
   ]
  },
  {
   "cell_type": "markdown",
   "id": "6653056a",
   "metadata": {},
   "source": [
    "<font color=\"red\"><h2> Conclusion </h2></font>\n",
    "\n",
    "- Give a brief conclusion. <br />\n",
    "- Also, discuss your learning journey. Highlight your challenges and great moments. <br />\n"
   ]
  },
  {
   "cell_type": "markdown",
   "id": "2596701e",
   "metadata": {},
   "source": [
    "### Conclusion\n",
    "In conclusion, the study of computational physics plays an important role in understanding and predicting physical phenomena through numerical simulations and modeling. The implementation of the Schrödinger equation for a particle in a one-dimensional potential well using the finite difference method in Python demonstrates the practical applications of computational physics in solving complex physical problems. By varying the well width and barrier height, we can study the effect of these parameters on the energy eigenvalues and wavefunctions of the particle. The results show that changes in these parameters have a significant impact on the energy levels and the nature of the wavefunctions. These findings highlight the potential of computational physics in advancing our understanding of physical systems and can be useful in the development of new technologies in various fields such as quantum computing and materials science."
   ]
  },
  {
   "cell_type": "markdown",
   "id": "8db79ef4",
   "metadata": {},
   "source": [
    "**Introduction:**\n",
    "Python is one of the most popular programming languages in the world. It is easy to learn and use, which makes it a great tool for beginners and experts alike. As a final year college student, I decided to learn Python to enhance my programming skills and improve my employability after graduation. In this report, I will discuss my Python learning journey, including the challenges and great moments.\n",
    "\n",
    "**Challenges:**\n",
    "since python is an easyenough language to learn i did not face many challenges but the main problem i used to face was the indentations i since i wasn't used to it but with time i got a hang of it. \n",
    "\n",
    "**Great Moments:**\n",
    "Despite the challenges, I had many great moments during my Python learning journey. One of the most significant was when I completed my first project using Python. It was a simple program that generated random passwords of a specified length. Although it was a straightforward program, I felt a sense of accomplishment knowing that I had created something useful from scratch. Another great moment was when I learned about the different data structures available in Python. I found that these data structures, such as lists, tuples, and dictionaries, were extremely powerful and could be used to solve many programming problems.\n",
    "\n",
    "**Conclusion:**\n",
    "In conclusion, me experiencen with python has been one of the best and enlightening descoveries ever. due to how its whole syntax and libraries are flexible, it grew my interest in it more and im glad i embarked on this learning journey. i've learnt the strengths of python especially in the computional fields and i hope to you use it to develop great programs in the future."
   ]
  },
  {
   "cell_type": "markdown",
   "id": "c47149fb",
   "metadata": {},
   "source": [
    "<font color=\"red\"><h2> Recommendation(s) </h2></font>\n",
    "\n",
    "- What area(s) do you suggest the class covers? <br />\n"
   ]
  },
  {
   "cell_type": "markdown",
   "id": "a6845ca3",
   "metadata": {},
   "source": [
    "I hope that the class will be taken through how Python can really be used "
   ]
  },
  {
   "cell_type": "code",
   "execution_count": null,
   "id": "e0e4bef1",
   "metadata": {},
   "outputs": [],
   "source": []
  }
 ],
 "metadata": {
  "kernelspec": {
   "display_name": "Python 3 (ipykernel)",
   "language": "python",
   "name": "python3"
  },
  "language_info": {
   "codemirror_mode": {
    "name": "ipython",
    "version": 3
   },
   "file_extension": ".py",
   "mimetype": "text/x-python",
   "name": "python",
   "nbconvert_exporter": "python",
   "pygments_lexer": "ipython3",
   "version": "3.9.12"
  }
 },
 "nbformat": 4,
 "nbformat_minor": 5
}
